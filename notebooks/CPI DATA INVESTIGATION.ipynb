{
 "cells": [
  {
   "cell_type": "markdown",
   "id": "6d1b3bf5-c00f-485d-afc5-8fc021c5cbbf",
   "metadata": {},
   "source": [
    "# CPI DATA\n",
    "\n",
    "*Aniket Pant, HACKGT 9*"
   ]
  },
  {
   "cell_type": "code",
   "execution_count": 295,
   "id": "0ea46052-ed8f-41be-8276-7b9cccf02b79",
   "metadata": {},
   "outputs": [],
   "source": [
    "import pandas as pd\n",
    "import matplotlib.pyplot as plt\n",
    "import numpy as np\n",
    "import yfinance as yf\n",
    "%matplotlib inline"
   ]
  },
  {
   "cell_type": "code",
   "execution_count": 296,
   "id": "2d39c9f5-1377-49ac-b721-0e99cf2a112e",
   "metadata": {},
   "outputs": [],
   "source": [
    "# Creating a function which will remove extra leading\n",
    "# and tailing whitespace from the data.\n",
    "# pass dataframe as a parameter here\n",
    "def whitespace_remover(dataframe):\n",
    "    # iterating over the columns\n",
    "    for i in dataframe.columns:\n",
    "        # checking datatype of each columns\n",
    "        dataframe.columns.str.replace(' ', '')"
   ]
  },
  {
   "cell_type": "code",
   "execution_count": 354,
   "id": "0b21b804-d7cd-432f-9942-3c564506fe8f",
   "metadata": {},
   "outputs": [],
   "source": [
    "vix_df = pd.read_csv('../data/vix-volatility-index-historical-chart.csv', header = None, names = ['Date', '$VIX'], skiprows = 16, parse_dates = True)\n",
    "vix_df['Date'] = pd.to_datetime(vix_df['Date'])\n",
    "vix_df = vix_df.dropna()"
   ]
  },
  {
   "cell_type": "code",
   "execution_count": 355,
   "id": "02064d2c-22c7-4bc2-8cfa-9afd7867617e",
   "metadata": {},
   "outputs": [],
   "source": [
    "average_price_ref = pd.read_csv(\"../data/cpi/ap.series.txt\", delimiter=\"\\t\")"
   ]
  },
  {
   "cell_type": "code",
   "execution_count": 356,
   "id": "8fd85b78-6db3-48d0-89e8-d86076a323b0",
   "metadata": {},
   "outputs": [
    {
     "data": {
      "text/html": [
       "<div>\n",
       "<style scoped>\n",
       "    .dataframe tbody tr th:only-of-type {\n",
       "        vertical-align: middle;\n",
       "    }\n",
       "\n",
       "    .dataframe tbody tr th {\n",
       "        vertical-align: top;\n",
       "    }\n",
       "\n",
       "    .dataframe thead th {\n",
       "        text-align: right;\n",
       "    }\n",
       "</style>\n",
       "<table border=\"1\" class=\"dataframe\">\n",
       "  <thead>\n",
       "    <tr style=\"text-align: right;\">\n",
       "      <th></th>\n",
       "      <th>series_id</th>\n",
       "      <th>area_code</th>\n",
       "      <th>item_code</th>\n",
       "      <th>series_title</th>\n",
       "      <th>footnote_codes</th>\n",
       "      <th>begin_year</th>\n",
       "      <th>begin_period</th>\n",
       "      <th>end_year</th>\n",
       "      <th>end_period</th>\n",
       "    </tr>\n",
       "  </thead>\n",
       "  <tbody>\n",
       "    <tr>\n",
       "      <th>0</th>\n",
       "      <td>APU0000701111</td>\n",
       "      <td>0000</td>\n",
       "      <td>701111</td>\n",
       "      <td>Flour, white, all purpose, per lb. (453.6 gm) ...</td>\n",
       "      <td>NaN</td>\n",
       "      <td>1980</td>\n",
       "      <td>M01</td>\n",
       "      <td>2022</td>\n",
       "      <td>M09</td>\n",
       "    </tr>\n",
       "    <tr>\n",
       "      <th>1</th>\n",
       "      <td>APU0000701311</td>\n",
       "      <td>0000</td>\n",
       "      <td>701311</td>\n",
       "      <td>Rice, white, long grain, precooked (cost per p...</td>\n",
       "      <td>NaN</td>\n",
       "      <td>1980</td>\n",
       "      <td>M01</td>\n",
       "      <td>1981</td>\n",
       "      <td>M12</td>\n",
       "    </tr>\n",
       "    <tr>\n",
       "      <th>2</th>\n",
       "      <td>APU0000701312</td>\n",
       "      <td>0000</td>\n",
       "      <td>701312</td>\n",
       "      <td>Rice, white, long grain, uncooked, per lb. (45...</td>\n",
       "      <td>NaN</td>\n",
       "      <td>1980</td>\n",
       "      <td>M01</td>\n",
       "      <td>2022</td>\n",
       "      <td>M09</td>\n",
       "    </tr>\n",
       "    <tr>\n",
       "      <th>3</th>\n",
       "      <td>APU0000701321</td>\n",
       "      <td>0000</td>\n",
       "      <td>701321</td>\n",
       "      <td>Spaghetti (cost per pound/453.6 grams) in U.S....</td>\n",
       "      <td>NaN</td>\n",
       "      <td>1980</td>\n",
       "      <td>M01</td>\n",
       "      <td>1981</td>\n",
       "      <td>M03</td>\n",
       "    </tr>\n",
       "    <tr>\n",
       "      <th>4</th>\n",
       "      <td>APU0000701322</td>\n",
       "      <td>0000</td>\n",
       "      <td>701322</td>\n",
       "      <td>Spaghetti and macaroni, per lb. (453.6 gm) in ...</td>\n",
       "      <td>NaN</td>\n",
       "      <td>1984</td>\n",
       "      <td>M01</td>\n",
       "      <td>2022</td>\n",
       "      <td>M09</td>\n",
       "    </tr>\n",
       "  </tbody>\n",
       "</table>\n",
       "</div>"
      ],
      "text/plain": [
       "   series_id         area_code item_code  \\\n",
       "0  APU0000701111          0000    701111   \n",
       "1  APU0000701311          0000    701311   \n",
       "2  APU0000701312          0000    701312   \n",
       "3  APU0000701321          0000    701321   \n",
       "4  APU0000701322          0000    701322   \n",
       "\n",
       "                                        series_title  footnote_codes  \\\n",
       "0  Flour, white, all purpose, per lb. (453.6 gm) ...             NaN   \n",
       "1  Rice, white, long grain, precooked (cost per p...             NaN   \n",
       "2  Rice, white, long grain, uncooked, per lb. (45...             NaN   \n",
       "3  Spaghetti (cost per pound/453.6 grams) in U.S....             NaN   \n",
       "4  Spaghetti and macaroni, per lb. (453.6 gm) in ...             NaN   \n",
       "\n",
       "   begin_year begin_period  end_year end_period  \n",
       "0        1980          M01      2022        M09  \n",
       "1        1980          M01      1981        M12  \n",
       "2        1980          M01      2022        M09  \n",
       "3        1980          M01      1981        M03  \n",
       "4        1984          M01      2022        M09  "
      ]
     },
     "execution_count": 356,
     "metadata": {},
     "output_type": "execute_result"
    }
   ],
   "source": [
    "average_price_ref.head() # this tells us what each item is and datetime length lookup"
   ]
  },
  {
   "cell_type": "code",
   "execution_count": 357,
   "id": "dc60a1c2-985f-469b-8f95-d7ea045fc990",
   "metadata": {},
   "outputs": [],
   "source": [
    "average_price_historic_food = pd.read_csv(\"../data/cpi/ap.data.3.Food.txt\", delimiter=\"\\t\")\n",
    "average_price_historic_food.columns = average_price_historic_food.columns.str.replace(' ', '')\n",
    "average_price_historic_food['Date'] = pd.to_datetime(average_price_historic_food['year'].astype(str) + \"-\" + average_price_historic_food['period'].str[1:])"
   ]
  },
  {
   "cell_type": "code",
   "execution_count": 358,
   "id": "2b514f40-3550-45cb-b1ea-f6cbae909528",
   "metadata": {},
   "outputs": [],
   "source": [
    "sel =average_price_historic_food.loc[average_price_historic_food['series_id'] == average_price_historic_food['series_id'][0]].sort_values(by=['Date'])"
   ]
  },
  {
   "cell_type": "code",
   "execution_count": 359,
   "id": "842895b4-4d50-4e1c-ae36-13f9819862bb",
   "metadata": {},
   "outputs": [
    {
     "data": {
      "text/html": [
       "<div>\n",
       "<style scoped>\n",
       "    .dataframe tbody tr th:only-of-type {\n",
       "        vertical-align: middle;\n",
       "    }\n",
       "\n",
       "    .dataframe tbody tr th {\n",
       "        vertical-align: top;\n",
       "    }\n",
       "\n",
       "    .dataframe thead th {\n",
       "        text-align: right;\n",
       "    }\n",
       "</style>\n",
       "<table border=\"1\" class=\"dataframe\">\n",
       "  <thead>\n",
       "    <tr style=\"text-align: right;\">\n",
       "      <th></th>\n",
       "      <th>series_id</th>\n",
       "      <th>year</th>\n",
       "      <th>period</th>\n",
       "      <th>value</th>\n",
       "      <th>footnote_codes</th>\n",
       "      <th>Date</th>\n",
       "    </tr>\n",
       "  </thead>\n",
       "  <tbody>\n",
       "    <tr>\n",
       "      <th>0</th>\n",
       "      <td>APU0000701111</td>\n",
       "      <td>1980</td>\n",
       "      <td>M01</td>\n",
       "      <td>0.203</td>\n",
       "      <td>NaN</td>\n",
       "      <td>1980-01-01</td>\n",
       "    </tr>\n",
       "    <tr>\n",
       "      <th>1</th>\n",
       "      <td>APU0000701111</td>\n",
       "      <td>1980</td>\n",
       "      <td>M02</td>\n",
       "      <td>0.205</td>\n",
       "      <td>NaN</td>\n",
       "      <td>1980-02-01</td>\n",
       "    </tr>\n",
       "    <tr>\n",
       "      <th>2</th>\n",
       "      <td>APU0000701111</td>\n",
       "      <td>1980</td>\n",
       "      <td>M03</td>\n",
       "      <td>0.211</td>\n",
       "      <td>NaN</td>\n",
       "      <td>1980-03-01</td>\n",
       "    </tr>\n",
       "    <tr>\n",
       "      <th>3</th>\n",
       "      <td>APU0000701111</td>\n",
       "      <td>1980</td>\n",
       "      <td>M04</td>\n",
       "      <td>0.206</td>\n",
       "      <td>NaN</td>\n",
       "      <td>1980-04-01</td>\n",
       "    </tr>\n",
       "    <tr>\n",
       "      <th>4</th>\n",
       "      <td>APU0000701111</td>\n",
       "      <td>1980</td>\n",
       "      <td>M05</td>\n",
       "      <td>0.207</td>\n",
       "      <td>NaN</td>\n",
       "      <td>1980-05-01</td>\n",
       "    </tr>\n",
       "  </tbody>\n",
       "</table>\n",
       "</div>"
      ],
      "text/plain": [
       "           series_id  year period  value  footnote_codes       Date\n",
       "0  APU0000701111      1980    M01  0.203             NaN 1980-01-01\n",
       "1  APU0000701111      1980    M02  0.205             NaN 1980-02-01\n",
       "2  APU0000701111      1980    M03  0.211             NaN 1980-03-01\n",
       "3  APU0000701111      1980    M04  0.206             NaN 1980-04-01\n",
       "4  APU0000701111      1980    M05  0.207             NaN 1980-05-01"
      ]
     },
     "execution_count": 359,
     "metadata": {},
     "output_type": "execute_result"
    }
   ],
   "source": [
    "sel.head()"
   ]
  },
  {
   "cell_type": "code",
   "execution_count": 360,
   "id": "a0715b1b-159d-48c1-aa09-e707c360cea6",
   "metadata": {},
   "outputs": [
    {
     "data": {
      "text/plain": [
       "Text(0.5, 1.0, 'Cost of precooked white rice, per lb')"
      ]
     },
     "execution_count": 360,
     "metadata": {},
     "output_type": "execute_result"
    },
    {
     "data": {
      "image/png": "[encoded data removed]",
      "text/plain": [
       "<Figure size 900x450 with 1 Axes>"
      ]
     },
     "metadata": {
      "needs_background": "light"
     },
     "output_type": "display_data"
    }
   ],
   "source": [
    "plt.figure(figsize = (6,3), dpi = 150)\n",
    "plt.plot(sel['Date'], sel['value'], lw = 2)\n",
    "plt.xlabel(\"Year\")\n",
    "plt.ylabel(\"$/lb\")\n",
    "plt.title(\"Cost of precooked white rice, per lb\")"
   ]
  },
  {
   "cell_type": "code",
   "execution_count": 368,
   "id": "b898e625-e2d4-4f8c-a0a2-b863994ff5a2",
   "metadata": {},
   "outputs": [
    {
     "name": "stdout",
     "output_type": "stream",
     "text": [
      "[*********************100%***********************]  1 of 1 completed\n"
     ]
    }
   ],
   "source": [
    "data = yf.download('GLD')\n",
    "data = data.reset_index()"
   ]
  },
  {
   "cell_type": "code",
   "execution_count": 369,
   "id": "4ce98925-6602-4cf0-b991-b3b0c685fd63",
   "metadata": {},
   "outputs": [
    {
     "data": {
      "text/html": [
       "<div>\n",
       "<style scoped>\n",
       "    .dataframe tbody tr th:only-of-type {\n",
       "        vertical-align: middle;\n",
       "    }\n",
       "\n",
       "    .dataframe tbody tr th {\n",
       "        vertical-align: top;\n",
       "    }\n",
       "\n",
       "    .dataframe thead th {\n",
       "        text-align: right;\n",
       "    }\n",
       "</style>\n",
       "<table border=\"1\" class=\"dataframe\">\n",
       "  <thead>\n",
       "    <tr style=\"text-align: right;\">\n",
       "      <th></th>\n",
       "      <th>Date</th>\n",
       "      <th>Open</th>\n",
       "      <th>High</th>\n",
       "      <th>Low</th>\n",
       "      <th>Close</th>\n",
       "      <th>Adj Close</th>\n",
       "      <th>Volume</th>\n",
       "    </tr>\n",
       "  </thead>\n",
       "  <tbody>\n",
       "    <tr>\n",
       "      <th>0</th>\n",
       "      <td>2004-11-18</td>\n",
       "      <td>44.430000</td>\n",
       "      <td>44.490002</td>\n",
       "      <td>44.070000</td>\n",
       "      <td>44.380001</td>\n",
       "      <td>44.380001</td>\n",
       "      <td>5992000</td>\n",
       "    </tr>\n",
       "    <tr>\n",
       "      <th>1</th>\n",
       "      <td>2004-11-19</td>\n",
       "      <td>44.490002</td>\n",
       "      <td>44.919998</td>\n",
       "      <td>44.470001</td>\n",
       "      <td>44.779999</td>\n",
       "      <td>44.779999</td>\n",
       "      <td>11655300</td>\n",
       "    </tr>\n",
       "    <tr>\n",
       "      <th>2</th>\n",
       "      <td>2004-11-22</td>\n",
       "      <td>44.750000</td>\n",
       "      <td>44.970001</td>\n",
       "      <td>44.740002</td>\n",
       "      <td>44.950001</td>\n",
       "      <td>44.950001</td>\n",
       "      <td>11996000</td>\n",
       "    </tr>\n",
       "    <tr>\n",
       "      <th>3</th>\n",
       "      <td>2004-11-23</td>\n",
       "      <td>44.880001</td>\n",
       "      <td>44.919998</td>\n",
       "      <td>44.720001</td>\n",
       "      <td>44.750000</td>\n",
       "      <td>44.750000</td>\n",
       "      <td>3169200</td>\n",
       "    </tr>\n",
       "    <tr>\n",
       "      <th>4</th>\n",
       "      <td>2004-11-24</td>\n",
       "      <td>44.930000</td>\n",
       "      <td>45.049999</td>\n",
       "      <td>44.790001</td>\n",
       "      <td>45.049999</td>\n",
       "      <td>45.049999</td>\n",
       "      <td>6105100</td>\n",
       "    </tr>\n",
       "    <tr>\n",
       "      <th>...</th>\n",
       "      <td>...</td>\n",
       "      <td>...</td>\n",
       "      <td>...</td>\n",
       "      <td>...</td>\n",
       "      <td>...</td>\n",
       "      <td>...</td>\n",
       "      <td>...</td>\n",
       "    </tr>\n",
       "    <tr>\n",
       "      <th>4508</th>\n",
       "      <td>2022-10-17</td>\n",
       "      <td>154.919998</td>\n",
       "      <td>155.330002</td>\n",
       "      <td>153.320007</td>\n",
       "      <td>153.419998</td>\n",
       "      <td>153.419998</td>\n",
       "      <td>4348000</td>\n",
       "    </tr>\n",
       "    <tr>\n",
       "      <th>4509</th>\n",
       "      <td>2022-10-18</td>\n",
       "      <td>154.080002</td>\n",
       "      <td>154.240005</td>\n",
       "      <td>153.240005</td>\n",
       "      <td>153.750000</td>\n",
       "      <td>153.750000</td>\n",
       "      <td>4528400</td>\n",
       "    </tr>\n",
       "    <tr>\n",
       "      <th>4510</th>\n",
       "      <td>2022-10-19</td>\n",
       "      <td>152.089996</td>\n",
       "      <td>152.490005</td>\n",
       "      <td>151.539993</td>\n",
       "      <td>151.690002</td>\n",
       "      <td>151.690002</td>\n",
       "      <td>8257100</td>\n",
       "    </tr>\n",
       "    <tr>\n",
       "      <th>4511</th>\n",
       "      <td>2022-10-20</td>\n",
       "      <td>151.919998</td>\n",
       "      <td>153.229996</td>\n",
       "      <td>151.270004</td>\n",
       "      <td>151.449997</td>\n",
       "      <td>151.449997</td>\n",
       "      <td>5019800</td>\n",
       "    </tr>\n",
       "    <tr>\n",
       "      <th>4512</th>\n",
       "      <td>2022-10-21</td>\n",
       "      <td>151.979996</td>\n",
       "      <td>154.309998</td>\n",
       "      <td>151.830002</td>\n",
       "      <td>154.149994</td>\n",
       "      <td>154.149994</td>\n",
       "      <td>6896500</td>\n",
       "    </tr>\n",
       "  </tbody>\n",
       "</table>\n",
       "<p>4513 rows × 7 columns</p>\n",
       "</div>"
      ],
      "text/plain": [
       "           Date        Open        High         Low       Close   Adj Close  \\\n",
       "0    2004-11-18   44.430000   44.490002   44.070000   44.380001   44.380001   \n",
       "1    2004-11-19   44.490002   44.919998   44.470001   44.779999   44.779999   \n",
       "2    2004-11-22   44.750000   44.970001   44.740002   44.950001   44.950001   \n",
       "3    2004-11-23   44.880001   44.919998   44.720001   44.750000   44.750000   \n",
       "4    2004-11-24   44.930000   45.049999   44.790001   45.049999   45.049999   \n",
       "...         ...         ...         ...         ...         ...         ...   \n",
       "4508 2022-10-17  154.919998  155.330002  153.320007  153.419998  153.419998   \n",
       "4509 2022-10-18  154.080002  154.240005  153.240005  153.750000  153.750000   \n",
       "4510 2022-10-19  152.089996  152.490005  151.539993  151.690002  151.690002   \n",
       "4511 2022-10-20  151.919998  153.229996  151.270004  151.449997  151.449997   \n",
       "4512 2022-10-21  151.979996  154.309998  151.830002  154.149994  154.149994   \n",
       "\n",
       "        Volume  \n",
       "0      5992000  \n",
       "1     11655300  \n",
       "2     11996000  \n",
       "3      3169200  \n",
       "4      6105100  \n",
       "...        ...  \n",
       "4508   4348000  \n",
       "4509   4528400  \n",
       "4510   8257100  \n",
       "4511   5019800  \n",
       "4512   6896500  \n",
       "\n",
       "[4513 rows x 7 columns]"
      ]
     },
     "execution_count": 369,
     "metadata": {},
     "output_type": "execute_result"
    }
   ],
   "source": [
    "data"
   ]
  },
  {
   "cell_type": "code",
   "execution_count": 370,
   "id": "ff342e89-8bff-407a-93c5-a5557b60c242",
   "metadata": {},
   "outputs": [
    {
     "data": {
      "text/plain": [
       "(12740.0, 19286.0)"
      ]
     },
     "execution_count": 370,
     "metadata": {},
     "output_type": "execute_result"
    },
    {
     "data": {
      "image/png": "[encoded data removed]",
      "text/plain": [
       "<Figure size 432x288 with 2 Axes>"
      ]
     },
     "metadata": {
      "needs_background": "light"
     },
     "output_type": "display_data"
    }
   ],
   "source": [
    "fig, ax1 = plt.subplots()\n",
    "ax1.plot(vix_df['Date'], vix_df['$VIX'], color = \"blue\")\n",
    "ax1.set_xlabel(\"Year\")\n",
    "\n",
    "ax1.set_ylabel(\"SPY\")\n",
    "\n",
    "ax2 = ax1.twinx()\n",
    "ax2.plot(sel['Date'], sel['value'], color = \"black\")\n",
    "\n",
    "ax2.set_ylabel(\"Item cost\")\n",
    "\n",
    "ax1.set_xlim(min(data['Date']), max(data['Date']))"
   ]
  },
  {
   "cell_type": "code",
   "execution_count": 374,
   "id": "16e7ad70-9fac-4660-a71f-b902089100b5",
   "metadata": {},
   "outputs": [],
   "source": [
    "scatter = pd.merge(data, sel, how = 'inner', on = 'Date')\n",
    "scatter = scatter.set_index([\"Date\"])\n",
    "scatter = scatter.resample(\"M\").mean() \n",
    "scatter.index = pd.to_datetime(scatter.index, format=\"%Y%m\").to_period('M')\n",
    "\n",
    "m_inflation = scatter['value'].pct_change()[1:]\n",
    "m_spy = scatter['Close'].pct_change()[1:]\n",
    "corr_coef = np.corrcoef(m_inflation, m_spy)[0,1]"
   ]
  },
  {
   "cell_type": "code",
   "execution_count": 375,
   "id": "a58c6dad-42ae-4cad-ad7b-b4a439116f0e",
   "metadata": {},
   "outputs": [
    {
     "data": {
      "text/plain": [
       "(-0.2032564462478474,\n",
       " 0.19058216754346652,\n",
       " -0.15883650632863616,\n",
       " 0.22054946933191993)"
      ]
     },
     "execution_count": 375,
     "metadata": {},
     "output_type": "execute_result"
    },
    {
     "data": {
      "image/png": "[encoded data removed]",
      "text/plain": [
       "<Figure size 432x288 with 1 Axes>"
      ]
     },
     "metadata": {
      "needs_background": "light"
     },
     "output_type": "display_data"
    }
   ],
   "source": [
    "plt.scatter(m_inflation, m_spy)\n",
    "plt.axvline(color='black')\n",
    "plt.axhline(color='black')\n",
    "plt.axis(\"equal\")"
   ]
  },
  {
   "cell_type": "code",
   "execution_count": 382,
   "id": "8fe0af3a-0aa9-458f-9eb4-08355ae7d4fd",
   "metadata": {},
   "outputs": [
    {
     "data": {
      "text/plain": [
       "<AxesSubplot:>"
      ]
     },
     "execution_count": 382,
     "metadata": {},
     "output_type": "execute_result"
    },
    {
     "data": {
      "image/png": "[encoded data removed]",
      "text/plain": [
       "<Figure size 432x288 with 1 Axes>"
      ]
     },
     "metadata": {
      "needs_background": "light"
     },
     "output_type": "display_data"
    }
   ],
   "source": [
    "m_spy.hist()"
   ]
  },
  {
   "cell_type": "code",
   "execution_count": 376,
   "id": "17a59d2f-1380-455f-97ec-44dcbf1e91cc",
   "metadata": {},
   "outputs": [
    {
     "data": {
      "text/plain": [
       "0.0017733036560361242"
      ]
     },
     "execution_count": 376,
     "metadata": {},
     "output_type": "execute_result"
    }
   ],
   "source": [
    "corr_coef"
   ]
  }
 ],
 "metadata": {
  "kernelspec": {
   "display_name": "Python 3 (ipykernel)",
   "language": "python",
   "name": "python3"
  },
  "language_info": {
   "codemirror_mode": {
    "name": "ipython",
    "version": 3
   },
   "file_extension": ".py",
   "mimetype": "text/x-python",
   "name": "python",
   "nbconvert_exporter": "python",
   "pygments_lexer": "ipython3",
   "version": "3.8.13"
  }
 },
 "nbformat": 4,
 "nbformat_minor": 5
}
